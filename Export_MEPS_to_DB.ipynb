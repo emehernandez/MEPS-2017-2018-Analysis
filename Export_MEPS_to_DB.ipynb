{
 "cells": [
  {
   "cell_type": "code",
   "execution_count": 4,
   "id": "d5fe824b-5454-4a06-8c27-7838a70dc65d",
   "metadata": {},
   "outputs": [
    {
     "name": "stdout",
     "output_type": "stream",
     "text": [
      "Data exported successfully to: C:\\Users\\ehern\\Documents\\Career\\Resume Files\\Code Samples\\Inputs\\MEPS_2017\\meps2017.db\n",
      "File exists? True\n",
      "Data exported successfully to: C:\\Users\\ehern\\Documents\\Career\\Resume Files\\Code Samples\\Inputs\\MEPS_2018\\meps2018.db\n",
      "File exists? True\n"
     ]
    }
   ],
   "source": [
    "import pandas as pd\n",
    "import sqlite3\n",
    "import os\n",
    "\n",
    "# load excel file(s)\n",
    "df17 = pd.read_excel(r\"C:\\Users\\ehern\\Documents\\Career\\Resume Files\\Code Samples\\Inputs\\MEPS_2017\\h201.xlsx\")\n",
    "df18 = pd.read_excel(r\"C:\\Users\\ehern\\Documents\\Career\\Resume Files\\Code Samples\\Inputs\\MEPS_2018\\h209.xlsx\")\n",
    "\n",
    "# create absolute path for databases\n",
    "db17_path = r\"C:\\Users\\ehern\\Documents\\Career\\Resume Files\\Code Samples\\Inputs\\MEPS_2017\\meps2017.db\"\n",
    "db18_path = r\"C:\\Users\\ehern\\Documents\\Career\\Resume Files\\Code Samples\\Inputs\\MEPS_2018\\meps2018.db\"\n",
    "\n",
    "# connect to database (creates .db file if doesn't already exist)\n",
    "conn17 = sqlite3.connect(db17_path)\n",
    "conn18 = sqlite3.connect(db18_path)\n",
    "\n",
    "# export dataframe to .db file\n",
    "df17.to_sql(\"meps2017\", conn17, if_exists=\"replace\", index=False)\n",
    "df18.to_sql(\"meps2018\", conn18, if_exists=\"replace\", index=False)\n",
    "\n",
    "# close connections \n",
    "conn17.close()\n",
    "conn18.close()\n",
    "\n",
    "# check export was susccessful\n",
    "print(f\"Data exported successfully to: {db17_path}\")\n",
    "print(\"File exists?\", os.path.exists(db17_path))\n",
    "\n",
    "print(f\"Data exported successfully to: {db18_path}\")\n",
    "print(\"File exists?\", os.path.exists(db18_path))"
   ]
  }
 ],
 "metadata": {
  "kernelspec": {
   "display_name": "Python 3 (ipykernel)",
   "language": "python",
   "name": "python3"
  },
  "language_info": {
   "codemirror_mode": {
    "name": "ipython",
    "version": 3
   },
   "file_extension": ".py",
   "mimetype": "text/x-python",
   "name": "python",
   "nbconvert_exporter": "python",
   "pygments_lexer": "ipython3",
   "version": "3.13.5"
  }
 },
 "nbformat": 4,
 "nbformat_minor": 5
}
